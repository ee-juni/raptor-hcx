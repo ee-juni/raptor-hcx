{
 "cells": [
  {
   "cell_type": "markdown",
   "id": "912cd8c6-d405-4dfe-8897-46108e6a6af7",
   "metadata": {},
   "source": [
    "# RAPTOR: Recursive Abstractive Processing for Tree-Organized Retrieval"
   ]
  },
  {
   "cell_type": "code",
   "execution_count": null,
   "id": "631b09a3",
   "metadata": {},
   "outputs": [],
   "source": [
    "# NOTE: An OpenAI API key must be set here for application initialization, even if not in use.\n",
    "# If you're not utilizing OpenAI models, assign a placeholder string (e.g., \"not_used\").\n",
    "import os\n",
    "os.environ[\"OPENAI_API_KEY\"] = \"not_used\""
   ]
  },
  {
   "cell_type": "code",
   "execution_count": null,
   "id": "e2d7d995-7beb-40b5-9a44-afd350b7d221",
   "metadata": {},
   "outputs": [],
   "source": [
    "# Load sample text file\n",
    "with open('/home/ubuntu/workspace/juni/2024-flagship-llm/data/raw/박정희.txt', 'r') as file:\n",
    "    document = file.read().split(\"\\n\\n\")\n",
    "# print(document[:2])"
   ]
  },
  {
   "cell_type": "markdown",
   "id": "c7d51ebd-5597-4fdd-8c37-32636395081b",
   "metadata": {},
   "source": [
    "1) **Building**: RAPTOR recursively embeds, clusters, and summarizes chunks of text to construct a tree with varying levels of summarization from the bottom up. You can create a tree from the text in 'sample.txt' using `RA.add_documents(text)`.\n",
    "\n",
    "2) **Querying**: At inference time, the RAPTOR model retrieves information from this tree, integrating data across lengthy documents at different abstraction levels. You can perform queries on the tree with `RA.answer_question`."
   ]
  },
  {
   "cell_type": "markdown",
   "id": "f4f58830-9004-48a4-b50e-61a855511d24",
   "metadata": {},
   "source": [
    "## Building the tree"
   ]
  },
  {
   "cell_type": "code",
   "execution_count": null,
   "id": "3753fcf9-0a8e-4ab3-bf3a-6be38ef6cd1e",
   "metadata": {},
   "outputs": [],
   "source": [
    "from raptor import RetrievalAugmentation, RetrievalAugmentationConfig\n",
    "from raptor.SummarizationModels import ClovaSummarizationModel\n",
    "from raptor.QAModels import ClovaQAModel\n",
    "from raptor.EmbeddingModels import BGEM3EmbeddingModel\n",
    "\n",
    "# Initialize your custom models\n",
    "custom_summarizer = ClovaSummarizationModel()\n",
    "custom_qa = ClovaQAModel()\n",
    "custom_embedding = BGEM3EmbeddingModel()\n",
    "\n",
    "# Create a config with your custom models\n",
    "custom_config = RetrievalAugmentationConfig(\n",
    "    summarization_model=custom_summarizer,\n",
    "    qa_model=custom_qa,\n",
    "    embedding_model=custom_embedding\n",
    ")"
   ]
  },
  {
   "cell_type": "code",
   "execution_count": null,
   "id": "d92e5593",
   "metadata": {},
   "outputs": [],
   "source": [
    "# Initialize RAPTOR with your custom config\n",
    "RA = RetrievalAugmentation(config=custom_config)"
   ]
  },
  {
   "cell_type": "code",
   "execution_count": null,
   "id": "7e843edf",
   "metadata": {},
   "outputs": [],
   "source": [
    "# construct the tree\n",
    "RA.add_documents(document, use_multithreading=True)"
   ]
  },
  {
   "cell_type": "markdown",
   "id": "f219d60a-1f0b-4cee-89eb-2ae026f13e63",
   "metadata": {},
   "source": [
    "## Querying from the tree"
   ]
  },
  {
   "cell_type": "markdown",
   "id": "c66496ba",
   "metadata": {},
   "source": [
    "### Without RAPTOR (Only Layer 0 Nodes)"
   ]
  },
  {
   "cell_type": "code",
   "execution_count": null,
   "id": "1b4037c5-ad5a-424b-80e4-a67b8e00773b",
   "metadata": {},
   "outputs": [],
   "source": [
    "question = \"박정희 정권에서 추진된 국가주도의 경제발전에서 드러난 '정치경제적 국가주의'에 대해서 설명해줘\"\n",
    "answer = RA.answer_question(question=question, start_layer=0, num_layers=1, collapse_tree=False, reranking=False)\n",
    "print(answer)"
   ]
  },
  {
   "cell_type": "markdown",
   "id": "7543a0b1",
   "metadata": {},
   "source": [
    "### With RAPTOR"
   ]
  },
  {
   "cell_type": "code",
   "execution_count": null,
   "id": "de7d8233",
   "metadata": {},
   "outputs": [],
   "source": [
    "answer = RA.answer_question(question=question, reranking=False)\n",
    "print(answer)"
   ]
  },
  {
   "cell_type": "markdown",
   "id": "7c886380",
   "metadata": {},
   "source": [
    "## Saving the tree"
   ]
  },
  {
   "cell_type": "code",
   "execution_count": null,
   "id": "f5be7e57",
   "metadata": {},
   "outputs": [],
   "source": [
    "# Save the tree by calling RA.save(\"path/to/save\")\n",
    "SAVE_PATH = \"demo/pjh-bge\"\n",
    "RA.save(SAVE_PATH)"
   ]
  },
  {
   "cell_type": "markdown",
   "id": "af13c8ca",
   "metadata": {},
   "source": [
    "## Loading the saved tree"
   ]
  },
  {
   "cell_type": "code",
   "execution_count": null,
   "id": "8ab7aa15",
   "metadata": {},
   "outputs": [],
   "source": [
    "# load back the tree by passing it into RetrievalAugmentation\n",
    "SAVE_PATH = \"demo/pjh-bge\"\n",
    "RA = RetrievalAugmentation(tree=SAVE_PATH, config=custom_config)"
   ]
  },
  {
   "cell_type": "code",
   "execution_count": null,
   "id": "a3ab6232",
   "metadata": {},
   "outputs": [],
   "source": []
  }
 ],
 "metadata": {
  "kernelspec": {
   "display_name": "raptor",
   "language": "python",
   "name": "python3"
  },
  "language_info": {
   "codemirror_mode": {
    "name": "ipython",
    "version": 3
   },
   "file_extension": ".py",
   "mimetype": "text/x-python",
   "name": "python",
   "nbconvert_exporter": "python",
   "pygments_lexer": "ipython3",
   "version": "3.12.3"
  }
 },
 "nbformat": 4,
 "nbformat_minor": 5
}
